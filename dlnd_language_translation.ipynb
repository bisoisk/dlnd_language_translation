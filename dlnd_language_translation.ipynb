{
 "cells": [
  {
   "cell_type": "markdown",
   "metadata": {
    "collapsed": true
   },
   "source": [
    "# Language Translation\n",
    "In this project, you’re going to take a peek into the realm of neural network machine translation.  You’ll be training a sequence to sequence model on a dataset of English and French sentences that can translate new sentences from English to French.\n",
    "## Get the Data\n",
    "Since translating the whole language of English to French will take lots of time to train, we have provided you with a small portion of the English corpus."
   ]
  },
  {
   "cell_type": "code",
   "execution_count": 1,
   "metadata": {},
   "outputs": [],
   "source": [
    "\"\"\"\n",
    "DON'T MODIFY ANYTHING IN THIS CELL\n",
    "\"\"\"\n",
    "import helper\n",
    "import problem_unittests as tests\n",
    "\n",
    "source_path = 'data/small_vocab_en'\n",
    "target_path = 'data/small_vocab_fr'\n",
    "source_text = helper.load_data(source_path)\n",
    "target_text = helper.load_data(target_path)"
   ]
  },
  {
   "cell_type": "markdown",
   "metadata": {},
   "source": [
    "## Explore the Data\n",
    "Play around with view_sentence_range to view different parts of the data."
   ]
  },
  {
   "cell_type": "code",
   "execution_count": 2,
   "metadata": {},
   "outputs": [
    {
     "name": "stdout",
     "output_type": "stream",
     "text": [
      "Dataset Stats\n",
      "Roughly the number of unique words: 227\n",
      "Number of sentences: 137861\n",
      "Average number of words in a sentence: 13.225277634719028\n",
      "\n",
      "English sentences 0 to 10:\n",
      "new jersey is sometimes quiet during autumn , and it is snowy in april .\n",
      "the united states is usually chilly during july , and it is usually freezing in november .\n",
      "california is usually quiet during march , and it is usually hot in june .\n",
      "the united states is sometimes mild during june , and it is cold in september .\n",
      "your least liked fruit is the grape , but my least liked is the apple .\n",
      "his favorite fruit is the orange , but my favorite is the grape .\n",
      "paris is relaxing during december , but it is usually chilly in july .\n",
      "new jersey is busy during spring , and it is never hot in march .\n",
      "our least liked fruit is the lemon , but my least liked is the grape .\n",
      "the united states is sometimes busy during january , and it is sometimes warm in november .\n",
      "\n",
      "French sentences 0 to 10:\n",
      "new jersey est parfois calme pendant l' automne , et il est neigeux en avril .\n",
      "les états-unis est généralement froid en juillet , et il gèle habituellement en novembre .\n",
      "california est généralement calme en mars , et il est généralement chaud en juin .\n",
      "les états-unis est parfois légère en juin , et il fait froid en septembre .\n",
      "votre moins aimé fruit est le raisin , mais mon moins aimé est la pomme .\n",
      "son fruit préféré est l'orange , mais mon préféré est le raisin .\n",
      "paris est relaxant en décembre , mais il est généralement froid en juillet .\n",
      "new jersey est occupé au printemps , et il est jamais chaude en mars .\n",
      "notre fruit est moins aimé le citron , mais mon moins aimé est le raisin .\n",
      "les états-unis est parfois occupé en janvier , et il est parfois chaud en novembre .\n"
     ]
    }
   ],
   "source": [
    "view_sentence_range = (0, 10)\n",
    "\n",
    "\"\"\"\n",
    "DON'T MODIFY ANYTHING IN THIS CELL\n",
    "\"\"\"\n",
    "import numpy as np\n",
    "\n",
    "print('Dataset Stats')\n",
    "print('Roughly the number of unique words: {}'.format(len({word: None for word in source_text.split()})))\n",
    "\n",
    "sentences = source_text.split('\\n')\n",
    "word_counts = [len(sentence.split()) for sentence in sentences]\n",
    "print('Number of sentences: {}'.format(len(sentences)))\n",
    "print('Average number of words in a sentence: {}'.format(np.average(word_counts)))\n",
    "\n",
    "print()\n",
    "print('English sentences {} to {}:'.format(*view_sentence_range))\n",
    "print('\\n'.join(source_text.split('\\n')[view_sentence_range[0]:view_sentence_range[1]]))\n",
    "print()\n",
    "print('French sentences {} to {}:'.format(*view_sentence_range))\n",
    "print('\\n'.join(target_text.split('\\n')[view_sentence_range[0]:view_sentence_range[1]]))"
   ]
  },
  {
   "cell_type": "markdown",
   "metadata": {},
   "source": [
    "## Implement Preprocessing Function\n",
    "### Text to Word Ids\n",
    "As you did with other RNNs, you must turn the text into a number so the computer can understand it. In the function `text_to_ids()`, you'll turn `source_text` and `target_text` from words to ids.  However, you need to add the `<EOS>` word id at the end of each sentence from `target_text`.  This will help the neural network predict when the sentence should end.\n",
    "\n",
    "You can get the `<EOS>` word id by doing:\n",
    "```python\n",
    "target_vocab_to_int['<EOS>']\n",
    "```\n",
    "You can get other word ids using `source_vocab_to_int` and `target_vocab_to_int`."
   ]
  },
  {
   "cell_type": "code",
   "execution_count": 3,
   "metadata": {},
   "outputs": [
    {
     "name": "stdout",
     "output_type": "stream",
     "text": [
      "Tests Passed\n"
     ]
    }
   ],
   "source": [
    "def text_to_ids(source_text, target_text, source_vocab_to_int, target_vocab_to_int):\n",
    "    \"\"\"\n",
    "    Convert source and target text to proper word ids\n",
    "    :param source_text: String that contains all the source text.\n",
    "    :param target_text: String that contains all the target text.\n",
    "    :param source_vocab_to_int: Dictionary to go from the source words to an id\n",
    "    :param target_vocab_to_int: Dictionary to go from the target words to an id\n",
    "    :return: A tuple of lists (source_id_text, target_id_text)\n",
    "    \"\"\"\n",
    "    \n",
    "    source_sentences = [sentence for sentence in source_text.split('\\n')]\n",
    "    target_sentences = [sentence + ' <EOS>' for sentence in target_text.split('\\n')]\n",
    "    \n",
    "    source_id_text = [[source_vocab_to_int[word] for word in sentence.split()] for sentence in source_sentences]\n",
    "    target_id_text = [[target_vocab_to_int[word] for word in sentence.split()] for sentence in target_sentences]\n",
    "    \n",
    "    return source_id_text, target_id_text\n",
    "\n",
    "\"\"\"\n",
    "DON'T MODIFY ANYTHING IN THIS CELL THAT IS BELOW THIS LINE\n",
    "\"\"\"\n",
    "tests.test_text_to_ids(text_to_ids)"
   ]
  },
  {
   "cell_type": "markdown",
   "metadata": {},
   "source": [
    "### Preprocess all the data and save it\n",
    "Running the code cell below will preprocess all the data and save it to file."
   ]
  },
  {
   "cell_type": "code",
   "execution_count": 4,
   "metadata": {},
   "outputs": [],
   "source": [
    "\"\"\"\n",
    "DON'T MODIFY ANYTHING IN THIS CELL\n",
    "\"\"\"\n",
    "helper.preprocess_and_save_data(source_path, target_path, text_to_ids)"
   ]
  },
  {
   "cell_type": "markdown",
   "metadata": {},
   "source": [
    "# Check Point\n",
    "This is your first checkpoint. If you ever decide to come back to this notebook or have to restart the notebook, you can start from here. The preprocessed data has been saved to disk."
   ]
  },
  {
   "cell_type": "code",
   "execution_count": 5,
   "metadata": {},
   "outputs": [],
   "source": [
    "\"\"\"\n",
    "DON'T MODIFY ANYTHING IN THIS CELL\n",
    "\"\"\"\n",
    "import numpy as np\n",
    "import helper\n",
    "\n",
    "(source_int_text, target_int_text), (source_vocab_to_int, target_vocab_to_int), _ = helper.load_preprocess()"
   ]
  },
  {
   "cell_type": "markdown",
   "metadata": {},
   "source": [
    "### Check the Version of TensorFlow and Access to GPU\n",
    "This will check to make sure you have the correct version of TensorFlow and access to a GPU"
   ]
  },
  {
   "cell_type": "code",
   "execution_count": 6,
   "metadata": {},
   "outputs": [
    {
     "name": "stdout",
     "output_type": "stream",
     "text": [
      "TensorFlow Version: 1.0.0\n"
     ]
    },
    {
     "name": "stderr",
     "output_type": "stream",
     "text": [
      "C:\\ProgramData\\Anaconda3\\envs\\tensorflow10\\lib\\site-packages\\ipykernel_launcher.py:14: UserWarning: No GPU found. Please use a GPU to train your neural network.\n",
      "  \n"
     ]
    }
   ],
   "source": [
    "\"\"\"\n",
    "DON'T MODIFY ANYTHING IN THIS CELL\n",
    "\"\"\"\n",
    "from distutils.version import LooseVersion\n",
    "import warnings\n",
    "import tensorflow as tf\n",
    "\n",
    "# Check TensorFlow Version\n",
    "assert LooseVersion(tf.__version__) >= LooseVersion('1.0'), 'Please use TensorFlow version 1.0 or newer'\n",
    "print('TensorFlow Version: {}'.format(tf.__version__))\n",
    "\n",
    "# Check for a GPU\n",
    "if not tf.test.gpu_device_name():\n",
    "    warnings.warn('No GPU found. Please use a GPU to train your neural network.')\n",
    "else:\n",
    "    print('Default GPU Device: {}'.format(tf.test.gpu_device_name()))"
   ]
  },
  {
   "cell_type": "markdown",
   "metadata": {},
   "source": [
    "## Build the Neural Network\n",
    "You'll build the components necessary to build a Sequence-to-Sequence model by implementing the following functions below:\n",
    "- `model_inputs`\n",
    "- `process_decoding_input`\n",
    "- `encoding_layer`\n",
    "- `decoding_layer_train`\n",
    "- `decoding_layer_infer`\n",
    "- `decoding_layer`\n",
    "- `seq2seq_model`\n",
    "\n",
    "### Input\n",
    "Implement the `model_inputs()` function to create TF Placeholders for the Neural Network. It should create the following placeholders:\n",
    "\n",
    "- Input text placeholder named \"input\" using the TF Placeholder name parameter with rank 2.\n",
    "- Targets placeholder with rank 2.\n",
    "- Learning rate placeholder with rank 0.\n",
    "- Keep probability placeholder named \"keep_prob\" using the TF Placeholder name parameter with rank 0.\n",
    "\n",
    "Return the placeholders in the following the tuple (Input, Targets, Learing Rate, Keep Probability)"
   ]
  },
  {
   "cell_type": "code",
   "execution_count": 7,
   "metadata": {},
   "outputs": [
    {
     "name": "stdout",
     "output_type": "stream",
     "text": [
      "Tests Passed\n"
     ]
    }
   ],
   "source": [
    "def model_inputs():\n",
    "    \"\"\"\n",
    "    Create TF Placeholders for input, targets, and learning rate.\n",
    "    :return: Tuple (input, targets, learning rate, keep probability)\n",
    "    \"\"\"\n",
    "    input_ = tf.placeholder(tf.int32, [None, None], 'input')\n",
    "    target_ = tf.placeholder(tf.int32, [None, None], 'target')\n",
    "    lr_ = tf.placeholder(tf.float32, None, 'lr')\n",
    "    keep_prob_ = tf.placeholder(tf.float32, None, 'keep_prob')\n",
    "    return input_, target_, lr_, keep_prob_\n",
    "\n",
    "\"\"\"\n",
    "DON'T MODIFY ANYTHING IN THIS CELL THAT IS BELOW THIS LINE\n",
    "\"\"\"\n",
    "tests.test_model_inputs(model_inputs)"
   ]
  },
  {
   "cell_type": "markdown",
   "metadata": {},
   "source": [
    "### Process Decoding Input\n",
    "Implement `process_decoding_input` using TensorFlow to remove the last word id from each batch in `target_data` and concat the GO ID to the begining of each batch."
   ]
  },
  {
   "cell_type": "code",
   "execution_count": 8,
   "metadata": {},
   "outputs": [
    {
     "name": "stdout",
     "output_type": "stream",
     "text": [
      "Tests Passed\n"
     ]
    }
   ],
   "source": [
    "def process_decoding_input(target_data, target_vocab_to_int, batch_size):\n",
    "    \"\"\"\n",
    "    Preprocess target data for dencoding\n",
    "    :param target_data: Target Placehoder\n",
    "    :param target_vocab_to_int: Dictionary to go from the target words to an id\n",
    "    :param batch_size: Batch Size\n",
    "    :return: Preprocessed target data\n",
    "    \"\"\"\n",
    "    \n",
    "    a = tf.strided_slice(target_data, [0, 0], [batch_size, -1], [1, 1])\n",
    "    b = tf.fill([batch_size, 1], target_vocab_to_int['<GO>'])\n",
    "    c = tf.concat([b, a], 1)\n",
    "    \n",
    "    return c\n",
    "\n",
    "\"\"\"\n",
    "DON'T MODIFY ANYTHING IN THIS CELL THAT IS BELOW THIS LINE\n",
    "\"\"\"\n",
    "tests.test_process_decoding_input(process_decoding_input)"
   ]
  },
  {
   "cell_type": "markdown",
   "metadata": {},
   "source": [
    "### Encoding\n",
    "Implement `encoding_layer()` to create a Encoder RNN layer using [`tf.nn.dynamic_rnn()`](https://www.tensorflow.org/api_docs/python/tf/nn/dynamic_rnn)."
   ]
  },
  {
   "cell_type": "code",
   "execution_count": 9,
   "metadata": {},
   "outputs": [
    {
     "name": "stdout",
     "output_type": "stream",
     "text": [
      "Tests Passed\n"
     ]
    }
   ],
   "source": [
    "def encoding_layer(rnn_inputs, rnn_size, num_layers, keep_prob):\n",
    "    \"\"\"\n",
    "    Create encoding layer\n",
    "    :param rnn_inputs: Inputs for the RNN\n",
    "    :param rnn_size: RNN Size\n",
    "    :param num_layers: Number of layers\n",
    "    :param keep_prob: Dropout keep probability\n",
    "    :return: RNN state\n",
    "    \"\"\"\n",
    "    lstm = tf.contrib.rnn.BasicLSTMCell(rnn_size)\n",
    "    dropout = tf.contrib.rnn.DropoutWrapper(lstm, keep_prob)\n",
    "    cell = tf.contrib.rnn.MultiRNNCell([dropout] * num_layers)\n",
    "\n",
    "    _, final_state = tf.nn.dynamic_rnn(cell, rnn_inputs, dtype=tf.float32)\n",
    "    return final_state\n",
    "\n",
    "\"\"\"\n",
    "DON'T MODIFY ANYTHING IN THIS CELL THAT IS BELOW THIS LINE\n",
    "\"\"\"\n",
    "tests.test_encoding_layer(encoding_layer)"
   ]
  },
  {
   "cell_type": "markdown",
   "metadata": {},
   "source": [
    "### Decoding - Training\n",
    "Create training logits using [`tf.contrib.seq2seq.simple_decoder_fn_train()`](https://www.tensorflow.org/api_docs/python/tf/contrib/seq2seq/simple_decoder_fn_train) and [`tf.contrib.seq2seq.dynamic_rnn_decoder()`](https://www.tensorflow.org/api_docs/python/tf/contrib/seq2seq/dynamic_rnn_decoder).  Apply the `output_fn` to the [`tf.contrib.seq2seq.dynamic_rnn_decoder()`](https://www.tensorflow.org/api_docs/python/tf/contrib/seq2seq/dynamic_rnn_decoder) outputs."
   ]
  },
  {
   "cell_type": "code",
   "execution_count": 10,
   "metadata": {},
   "outputs": [
    {
     "name": "stdout",
     "output_type": "stream",
     "text": [
      "Tests Passed\n"
     ]
    }
   ],
   "source": [
    "def decoding_layer_train(encoder_state, dec_cell, dec_embed_input, sequence_length, decoding_scope,\n",
    "                         output_fn, keep_prob):\n",
    "    \"\"\"\n",
    "    Create a decoding layer for training\n",
    "    :param encoder_state: Encoder State\n",
    "    :param dec_cell: Decoder RNN Cell\n",
    "    :param dec_embed_input: Decoder embedded input\n",
    "    :param sequence_length: Sequence Length\n",
    "    :param decoding_scope: TenorFlow Variable Scope for decoding\n",
    "    :param output_fn: Function to apply the output layer\n",
    "    :param keep_prob: Dropout keep probability\n",
    "    :return: Train Logits\n",
    "    \"\"\"\n",
    "    dec_fn_train = tf.contrib.seq2seq.simple_decoder_fn_train(encoder_state)\n",
    "    outputs_train, _, _ = tf.contrib.seq2seq.dynamic_rnn_decoder(dec_cell, \n",
    "                                                                 dec_fn_train, \n",
    "                                                                 dec_embed_input, \n",
    "                                                                 sequence_length, \n",
    "                                                                 scope=decoding_scope)\n",
    "    logits_train = output_fn(outputs_train)\n",
    "    logits = tf.nn.dropout(logits_train, keep_prob)\n",
    "    return logits\n",
    "\n",
    "\n",
    "\"\"\"\n",
    "DON'T MODIFY ANYTHING IN THIS CELL THAT IS BELOW THIS LINE\n",
    "\"\"\"\n",
    "tests.test_decoding_layer_train(decoding_layer_train)"
   ]
  },
  {
   "cell_type": "markdown",
   "metadata": {},
   "source": [
    "### Decoding - Inference\n",
    "Create inference logits using [`tf.contrib.seq2seq.simple_decoder_fn_inference()`](https://www.tensorflow.org/api_docs/python/tf/contrib/seq2seq/simple_decoder_fn_inference) and [`tf.contrib.seq2seq.dynamic_rnn_decoder()`](https://www.tensorflow.org/api_docs/python/tf/contrib/seq2seq/dynamic_rnn_decoder). "
   ]
  },
  {
   "cell_type": "code",
   "execution_count": 11,
   "metadata": {},
   "outputs": [
    {
     "name": "stdout",
     "output_type": "stream",
     "text": [
      "Tests Passed\n"
     ]
    }
   ],
   "source": [
    "def decoding_layer_infer(encoder_state, dec_cell, dec_embeddings, start_of_sequence_id, end_of_sequence_id,\n",
    "                         maximum_length, vocab_size, decoding_scope, output_fn, keep_prob):\n",
    "    \"\"\"\n",
    "    Create a decoding layer for inference\n",
    "    :param encoder_state: Encoder state\n",
    "    :param dec_cell: Decoder RNN Cell\n",
    "    :param dec_embeddings: Decoder embeddings\n",
    "    :param start_of_sequence_id: GO ID\n",
    "    :param end_of_sequence_id: EOS Id\n",
    "    :param maximum_length: Maximum length of \n",
    "    :param vocab_size: Size of vocabulary\n",
    "    :param decoding_scope: TensorFlow Variable Scope for decoding\n",
    "    :param output_fn: Function to apply the output layer\n",
    "    :param keep_prob: Dropout keep probability\n",
    "    :return: Inference Logits\n",
    "    \"\"\"\n",
    "    dec_fn_infer = tf.contrib.seq2seq.simple_decoder_fn_inference(output_fn, \n",
    "                                                                  encoder_state, \n",
    "                                                                  dec_embeddings, \n",
    "                                                                  start_of_sequence_id, \n",
    "                                                                  end_of_sequence_id, \n",
    "                                                                  maximum_length, \n",
    "                                                                  vocab_size)\n",
    "    dropouted = tf.contrib.rnn.DropoutWrapper(dec_cell, keep_prob)\n",
    "    logits_infer, _, _ = tf.contrib.seq2seq.dynamic_rnn_decoder(dropouted, dec_fn_infer, \n",
    "                                                                sequence_length=maximum_length, \n",
    "                                                                scope=decoding_scope)\n",
    "    \n",
    "    return logits_infer\n",
    "\n",
    "\n",
    "\"\"\"\n",
    "DON'T MODIFY ANYTHING IN THIS CELL THAT IS BELOW THIS LINE\n",
    "\"\"\"\n",
    "tests.test_decoding_layer_infer(decoding_layer_infer)"
   ]
  },
  {
   "cell_type": "markdown",
   "metadata": {},
   "source": [
    "### Build the Decoding Layer\n",
    "Implement `decoding_layer()` to create a Decoder RNN layer.\n",
    "\n",
    "- Create RNN cell for decoding using `rnn_size` and `num_layers`.\n",
    "- Create the output fuction using [`lambda`](https://docs.python.org/3/tutorial/controlflow.html#lambda-expressions) to transform it's input, logits, to class logits.\n",
    "- Use the your `decoding_layer_train(encoder_state, dec_cell, dec_embed_input, sequence_length, decoding_scope, output_fn, keep_prob)` function to get the training logits.\n",
    "- Use your `decoding_layer_infer(encoder_state, dec_cell, dec_embeddings, start_of_sequence_id, end_of_sequence_id, maximum_length, vocab_size, decoding_scope, output_fn, keep_prob)` function to get the inference logits.\n",
    "\n",
    "Note: You'll need to use [tf.variable_scope](https://www.tensorflow.org/api_docs/python/tf/variable_scope) to share variables between training and inference."
   ]
  },
  {
   "cell_type": "code",
   "execution_count": 12,
   "metadata": {},
   "outputs": [
    {
     "name": "stdout",
     "output_type": "stream",
     "text": [
      "Tests Passed\n"
     ]
    }
   ],
   "source": [
    "def decoding_layer(dec_embed_input, dec_embeddings, encoder_state, vocab_size, sequence_length, rnn_size,\n",
    "                   num_layers, target_vocab_to_int, keep_prob):\n",
    "    \"\"\"\n",
    "    Create decoding layer\n",
    "    :param dec_embed_input: Decoder embedded input\n",
    "    :param dec_embeddings: Decoder embeddings\n",
    "    :param encoder_state: The encoded state\n",
    "    :param vocab_size: Size of vocabulary\n",
    "    :param sequence_length: Sequence Length\n",
    "    :param rnn_size: RNN Size\n",
    "    :param num_layers: Number of layers\n",
    "    :param target_vocab_to_int: Dictionary to go from the target words to an id\n",
    "    :param keep_prob: Dropout keep probability\n",
    "    :return: Tuple of (Training Logits, Inference Logits)\n",
    "    \"\"\"\n",
    "    lstm = tf.contrib.rnn.BasicLSTMCell(rnn_size)\n",
    "    dropout = tf.contrib.rnn.DropoutWrapper(lstm, keep_prob)\n",
    "    dec_cell = tf.contrib.rnn.MultiRNNCell([dropout] * num_layers)\n",
    "    \n",
    "    max_target_sentence_length = max([len(sentence) for sentence in source_int_text])\n",
    "    \n",
    "    with tf.variable_scope('decoding_layer') as decoding_scope:\n",
    "        output_fn = lambda x: tf.contrib.layers.fully_connected(x, vocab_size, None, scope=decoding_scope)\n",
    "    \n",
    "    with tf.variable_scope('decoding_layer') as decoding_scope:\n",
    "        logits_train = decoding_layer_train(encoder_state, dec_cell, dec_embed_input, \n",
    "                                            sequence_length, decoding_scope, output_fn, keep_prob)\n",
    "    \n",
    "    with tf.variable_scope('decoding_layer', reuse=True) as decoding_scope:\n",
    "        logits_infer = decoding_layer_infer(encoder_state, dec_cell, dec_embeddings, \n",
    "                                            target_vocab_to_int['<GO>'], target_vocab_to_int['<EOS>'], \n",
    "                                            max_target_sentence_length, \n",
    "                                            vocab_size, decoding_scope, output_fn, keep_prob)\n",
    "    \n",
    "    return logits_train, logits_infer\n",
    "\n",
    "\n",
    "\"\"\"\n",
    "DON'T MODIFY ANYTHING IN THIS CELL THAT IS BELOW THIS LINE\n",
    "\"\"\"\n",
    "tests.test_decoding_layer(decoding_layer)"
   ]
  },
  {
   "cell_type": "markdown",
   "metadata": {},
   "source": [
    "### Build the Neural Network\n",
    "Apply the functions you implemented above to:\n",
    "\n",
    "- Apply embedding to the input data for the encoder.\n",
    "- Encode the input using your `encoding_layer(rnn_inputs, rnn_size, num_layers, keep_prob)`.\n",
    "- Process target data using your `process_decoding_input(target_data, target_vocab_to_int, batch_size)` function.\n",
    "- Apply embedding to the target data for the decoder.\n",
    "- Decode the encoded input using your `decoding_layer(dec_embed_input, dec_embeddings, encoder_state, vocab_size, sequence_length, rnn_size, num_layers, target_vocab_to_int, keep_prob)`."
   ]
  },
  {
   "cell_type": "code",
   "execution_count": 13,
   "metadata": {},
   "outputs": [
    {
     "name": "stdout",
     "output_type": "stream",
     "text": [
      "Tests Passed\n"
     ]
    }
   ],
   "source": [
    "def seq2seq_model(input_data, target_data, keep_prob, batch_size, sequence_length, source_vocab_size, target_vocab_size,\n",
    "                  enc_embedding_size, dec_embedding_size, rnn_size, num_layers, target_vocab_to_int):\n",
    "    \"\"\"\n",
    "    Build the Sequence-to-Sequence part of the neural network\n",
    "    :param input_data: Input placeholder\n",
    "    :param target_data: Target placeholder\n",
    "    :param keep_prob: Dropout keep probability placeholder\n",
    "    :param batch_size: Batch Size\n",
    "    :param sequence_length: Sequence Length\n",
    "    :param source_vocab_size: Source vocabulary size\n",
    "    :param target_vocab_size: Target vocabulary size\n",
    "    :param enc_embedding_size: Decoder embedding size\n",
    "    :param dec_embedding_size: Encoder embedding size\n",
    "    :param rnn_size: RNN Size\n",
    "    :param num_layers: Number of layers\n",
    "    :param target_vocab_to_int: Dictionary to go from the target words to an id\n",
    "    :return: Tuple of (Training Logits, Inference Logits)\n",
    "    \"\"\"\n",
    "    enc_embed_input = tf.contrib.layers.embed_sequence(input_data, source_vocab_size, enc_embedding_size)\n",
    "    enc_state = encoding_layer(enc_embed_input, rnn_size, num_layers, keep_prob)\n",
    "    \n",
    "    dec_input = process_decoding_input(target_data, target_vocab_to_int, batch_size)\n",
    "    dec_embeddings = tf.Variable(tf.truncated_normal([target_vocab_size, dec_embedding_size], stddev=0.01))\n",
    "    dec_embed_input = tf.nn.embedding_lookup(dec_embeddings, dec_input)\n",
    "    logits_train, logits_infer = decoding_layer(dec_embed_input, dec_embeddings, \n",
    "                                                enc_state, target_vocab_size, \n",
    "                                                sequence_length, rnn_size, num_layers, \n",
    "                                                target_vocab_to_int, keep_prob)\n",
    "    \n",
    "    return logits_train, logits_infer\n",
    "\n",
    "\n",
    "\"\"\"\n",
    "DON'T MODIFY ANYTHING IN THIS CELL THAT IS BELOW THIS LINE\n",
    "\"\"\"\n",
    "tests.test_seq2seq_model(seq2seq_model)"
   ]
  },
  {
   "cell_type": "markdown",
   "metadata": {},
   "source": [
    "## Neural Network Training\n",
    "### Hyperparameters\n",
    "Tune the following parameters:\n",
    "\n",
    "- Set `epochs` to the number of epochs.\n",
    "- Set `batch_size` to the batch size.\n",
    "- Set `rnn_size` to the size of the RNNs.\n",
    "- Set `num_layers` to the number of layers.\n",
    "- Set `encoding_embedding_size` to the size of the embedding for the encoder.\n",
    "- Set `decoding_embedding_size` to the size of the embedding for the decoder.\n",
    "- Set `learning_rate` to the learning rate.\n",
    "- Set `keep_probability` to the Dropout keep probability"
   ]
  },
  {
   "cell_type": "code",
   "execution_count": 14,
   "metadata": {
    "collapsed": true
   },
   "outputs": [],
   "source": [
    "# Number of Epochs\n",
    "epochs = 15\n",
    "# Batch Size\n",
    "batch_size = 256\n",
    "# RNN Size\n",
    "rnn_size = 350\n",
    "# Number of Layers\n",
    "num_layers = 3\n",
    "# Embedding Size\n",
    "encoding_embedding_size = 150\n",
    "decoding_embedding_size = 150\n",
    "# Learning Rate\n",
    "learning_rate = 0.001\n",
    "# Dropout Keep Probability\n",
    "keep_probability = 0.75"
   ]
  },
  {
   "cell_type": "markdown",
   "metadata": {},
   "source": [
    "### Build the Graph\n",
    "Build the graph using the neural network you implemented."
   ]
  },
  {
   "cell_type": "code",
   "execution_count": null,
   "metadata": {},
   "outputs": [],
   "source": [
    "\"\"\"\n",
    "DON'T MODIFY ANYTHING IN THIS CELL\n",
    "\"\"\"\n",
    "save_path = 'checkpoints/dev'\n",
    "(source_int_text, target_int_text), (source_vocab_to_int, target_vocab_to_int), _ = helper.load_preprocess()\n",
    "max_target_sentence_length = max([len(sentence) for sentence in source_int_text])\n",
    "\n",
    "train_graph = tf.Graph()\n",
    "with train_graph.as_default():\n",
    "    input_data, targets, lr, keep_prob = model_inputs()\n",
    "    sequence_length = tf.placeholder_with_default(max_target_sentence_length, None, name='sequence_length')\n",
    "    input_shape = tf.shape(input_data)\n",
    "    \n",
    "    train_logits, inference_logits = seq2seq_model(\n",
    "        tf.reverse(input_data, [-1]), targets, keep_prob, batch_size, sequence_length, len(source_vocab_to_int), len(target_vocab_to_int),\n",
    "        encoding_embedding_size, decoding_embedding_size, rnn_size, num_layers, target_vocab_to_int)\n",
    "\n",
    "    tf.identity(inference_logits, 'logits')\n",
    "    with tf.name_scope(\"optimization\"):\n",
    "        # Loss function\n",
    "        cost = tf.contrib.seq2seq.sequence_loss(\n",
    "            train_logits,\n",
    "            targets,\n",
    "            tf.ones([input_shape[0], sequence_length]))\n",
    "\n",
    "        # Optimizer\n",
    "        optimizer = tf.train.AdamOptimizer(lr)\n",
    "\n",
    "        # Gradient Clipping\n",
    "        gradients = optimizer.compute_gradients(cost)\n",
    "        capped_gradients = [(tf.clip_by_value(grad, -1., 1.), var) for grad, var in gradients if grad is not None]\n",
    "        train_op = optimizer.apply_gradients(capped_gradients)"
   ]
  },
  {
   "cell_type": "markdown",
   "metadata": {},
   "source": [
    "### Train\n",
    "Train the neural network on the preprocessed data. If you have a hard time getting a good loss, check the forms to see if anyone is having the same problem."
   ]
  },
  {
   "cell_type": "code",
   "execution_count": null,
   "metadata": {
    "scrolled": true
   },
   "outputs": [
    {
     "name": "stdout",
     "output_type": "stream",
     "text": [
      "Epoch   0 Batch    0/538 - Train Accuracy:  0.268, Validation Accuracy:  0.344, Loss:  5.880\n",
      "Epoch   0 Batch    1/538 - Train Accuracy:  0.254, Validation Accuracy:  0.335, Loss:  5.857\n",
      "Epoch   0 Batch    2/538 - Train Accuracy:  0.252, Validation Accuracy:  0.316, Loss:  5.709\n",
      "Epoch   0 Batch    3/538 - Train Accuracy:  0.229, Validation Accuracy:  0.316, Loss:  5.082\n",
      "Epoch   0 Batch    4/538 - Train Accuracy:  0.270, Validation Accuracy:  0.345, Loss:  5.078\n",
      "Epoch   0 Batch    5/538 - Train Accuracy:  0.302, Validation Accuracy:  0.345, Loss:  4.499\n",
      "Epoch   0 Batch    6/538 - Train Accuracy:  0.298, Validation Accuracy:  0.338, Loss:  4.457\n",
      "Epoch   0 Batch    7/538 - Train Accuracy:  0.280, Validation Accuracy:  0.346, Loss:  4.415\n",
      "Epoch   0 Batch    8/538 - Train Accuracy:  0.280, Validation Accuracy:  0.347, Loss:  4.243\n",
      "Epoch   0 Batch    9/538 - Train Accuracy:  0.279, Validation Accuracy:  0.347, Loss:  4.131\n",
      "Epoch   0 Batch   10/538 - Train Accuracy:  0.260, Validation Accuracy:  0.347, Loss:  4.167\n",
      "Epoch   0 Batch   11/538 - Train Accuracy:  0.283, Validation Accuracy:  0.356, Loss:  4.138\n",
      "Epoch   0 Batch   12/538 - Train Accuracy:  0.295, Validation Accuracy:  0.371, Loss:  4.087\n",
      "Epoch   0 Batch   13/538 - Train Accuracy:  0.341, Validation Accuracy:  0.369, Loss:  3.871\n",
      "Epoch   0 Batch   14/538 - Train Accuracy:  0.306, Validation Accuracy:  0.373, Loss:  3.995\n",
      "Epoch   0 Batch   15/538 - Train Accuracy:  0.357, Validation Accuracy:  0.384, Loss:  3.848\n",
      "Epoch   0 Batch   16/538 - Train Accuracy:  0.343, Validation Accuracy:  0.386, Loss:  3.817\n",
      "Epoch   0 Batch   17/538 - Train Accuracy:  0.329, Validation Accuracy:  0.390, Loss:  3.894\n",
      "Epoch   0 Batch   18/538 - Train Accuracy:  0.317, Validation Accuracy:  0.388, Loss:  3.831\n",
      "Epoch   0 Batch   19/538 - Train Accuracy:  0.325, Validation Accuracy:  0.398, Loss:  3.937\n",
      "Epoch   0 Batch   20/538 - Train Accuracy:  0.346, Validation Accuracy:  0.396, Loss:  3.730\n",
      "Epoch   0 Batch   21/538 - Train Accuracy:  0.303, Validation Accuracy:  0.418, Loss:  3.938\n",
      "Epoch   0 Batch   22/538 - Train Accuracy:  0.356, Validation Accuracy:  0.419, Loss:  3.728\n",
      "Epoch   0 Batch   23/538 - Train Accuracy:  0.366, Validation Accuracy:  0.422, Loss:  3.775\n",
      "Epoch   0 Batch   24/538 - Train Accuracy:  0.363, Validation Accuracy:  0.416, Loss:  3.733\n",
      "Epoch   0 Batch   25/538 - Train Accuracy:  0.346, Validation Accuracy:  0.406, Loss:  3.645\n",
      "Epoch   0 Batch   26/538 - Train Accuracy:  0.348, Validation Accuracy:  0.410, Loss:  3.679\n",
      "Epoch   0 Batch   27/538 - Train Accuracy:  0.361, Validation Accuracy:  0.419, Loss:  3.646\n",
      "Epoch   0 Batch   28/538 - Train Accuracy:  0.425, Validation Accuracy:  0.432, Loss:  3.401\n",
      "Epoch   0 Batch   29/538 - Train Accuracy:  0.389, Validation Accuracy:  0.431, Loss:  3.526\n",
      "Epoch   0 Batch   30/538 - Train Accuracy:  0.356, Validation Accuracy:  0.420, Loss:  3.632\n",
      "Epoch   0 Batch   31/538 - Train Accuracy:  0.391, Validation Accuracy:  0.429, Loss:  3.472\n",
      "Epoch   0 Batch   32/538 - Train Accuracy:  0.396, Validation Accuracy:  0.449, Loss:  3.508\n",
      "Epoch   0 Batch   33/538 - Train Accuracy:  0.415, Validation Accuracy:  0.452, Loss:  3.431\n",
      "Epoch   0 Batch   34/538 - Train Accuracy:  0.394, Validation Accuracy:  0.445, Loss:  3.519\n",
      "Epoch   0 Batch   35/538 - Train Accuracy:  0.361, Validation Accuracy:  0.435, Loss:  3.470\n",
      "Epoch   0 Batch   36/538 - Train Accuracy:  0.406, Validation Accuracy:  0.442, Loss:  3.405\n",
      "Epoch   0 Batch   37/538 - Train Accuracy:  0.400, Validation Accuracy:  0.451, Loss:  3.378\n",
      "Epoch   0 Batch   38/538 - Train Accuracy:  0.380, Validation Accuracy:  0.452, Loss:  3.455\n",
      "Epoch   0 Batch   39/538 - Train Accuracy:  0.376, Validation Accuracy:  0.438, Loss:  3.414\n",
      "Epoch   0 Batch   40/538 - Train Accuracy:  0.440, Validation Accuracy:  0.449, Loss:  3.198\n",
      "Epoch   0 Batch   41/538 - Train Accuracy:  0.407, Validation Accuracy:  0.464, Loss:  3.319\n",
      "Epoch   0 Batch   42/538 - Train Accuracy:  0.401, Validation Accuracy:  0.456, Loss:  3.340\n",
      "Epoch   0 Batch   43/538 - Train Accuracy:  0.383, Validation Accuracy:  0.440, Loss:  3.326\n",
      "Epoch   0 Batch   44/538 - Train Accuracy:  0.402, Validation Accuracy:  0.462, Loss:  3.371\n",
      "Epoch   0 Batch   45/538 - Train Accuracy:  0.434, Validation Accuracy:  0.463, Loss:  3.230\n",
      "Epoch   0 Batch   46/538 - Train Accuracy:  0.392, Validation Accuracy:  0.453, Loss:  3.309\n",
      "Epoch   0 Batch   47/538 - Train Accuracy:  0.427, Validation Accuracy:  0.453, Loss:  3.228\n",
      "Epoch   0 Batch   48/538 - Train Accuracy:  0.444, Validation Accuracy:  0.460, Loss:  3.189\n",
      "Epoch   0 Batch   49/538 - Train Accuracy:  0.392, Validation Accuracy:  0.466, Loss:  3.331\n",
      "Epoch   0 Batch   50/538 - Train Accuracy:  0.411, Validation Accuracy:  0.459, Loss:  3.198\n",
      "Epoch   0 Batch   51/538 - Train Accuracy:  0.358, Validation Accuracy:  0.466, Loss:  3.349\n",
      "Epoch   0 Batch   52/538 - Train Accuracy:  0.414, Validation Accuracy:  0.456, Loss:  3.235\n",
      "Epoch   0 Batch   53/538 - Train Accuracy:  0.452, Validation Accuracy:  0.466, Loss:  3.102\n",
      "Epoch   0 Batch   54/538 - Train Accuracy:  0.440, Validation Accuracy:  0.477, Loss:  3.221\n",
      "Epoch   0 Batch   55/538 - Train Accuracy:  0.388, Validation Accuracy:  0.458, Loss:  3.229\n",
      "Epoch   0 Batch   56/538 - Train Accuracy:  0.438, Validation Accuracy:  0.478, Loss:  3.125\n",
      "Epoch   0 Batch   57/538 - Train Accuracy:  0.404, Validation Accuracy:  0.479, Loss:  3.237\n",
      "Epoch   0 Batch   58/538 - Train Accuracy:  0.376, Validation Accuracy:  0.463, Loss:  3.214\n",
      "Epoch   0 Batch   59/538 - Train Accuracy:  0.408, Validation Accuracy:  0.471, Loss:  3.172\n",
      "Epoch   0 Batch   60/538 - Train Accuracy:  0.415, Validation Accuracy:  0.479, Loss:  3.174\n",
      "Epoch   0 Batch   61/538 - Train Accuracy:  0.422, Validation Accuracy:  0.480, Loss:  3.137\n",
      "Epoch   0 Batch   62/538 - Train Accuracy:  0.433, Validation Accuracy:  0.482, Loss:  3.044\n",
      "Epoch   0 Batch   63/538 - Train Accuracy:  0.446, Validation Accuracy:  0.473, Loss:  3.041\n",
      "Epoch   0 Batch   64/538 - Train Accuracy:  0.445, Validation Accuracy:  0.481, Loss:  3.019\n",
      "Epoch   0 Batch   65/538 - Train Accuracy:  0.403, Validation Accuracy:  0.480, Loss:  3.185\n",
      "Epoch   0 Batch   66/538 - Train Accuracy:  0.453, Validation Accuracy:  0.482, Loss:  3.015\n",
      "Epoch   0 Batch   67/538 - Train Accuracy:  0.406, Validation Accuracy:  0.468, Loss:  3.093\n",
      "Epoch   0 Batch   68/538 - Train Accuracy:  0.456, Validation Accuracy:  0.483, Loss:  2.984\n",
      "Epoch   0 Batch   69/538 - Train Accuracy:  0.415, Validation Accuracy:  0.480, Loss:  3.085\n",
      "Epoch   0 Batch   70/538 - Train Accuracy:  0.442, Validation Accuracy:  0.483, Loss:  2.968\n",
      "Epoch   0 Batch   71/538 - Train Accuracy:  0.433, Validation Accuracy:  0.488, Loss:  3.030\n",
      "Epoch   0 Batch   72/538 - Train Accuracy:  0.448, Validation Accuracy:  0.476, Loss:  2.986\n",
      "Epoch   0 Batch   73/538 - Train Accuracy:  0.421, Validation Accuracy:  0.484, Loss:  3.008\n",
      "Epoch   0 Batch   74/538 - Train Accuracy:  0.440, Validation Accuracy:  0.478, Loss:  2.955\n",
      "Epoch   0 Batch   75/538 - Train Accuracy:  0.460, Validation Accuracy:  0.489, Loss:  2.934\n",
      "Epoch   0 Batch   76/538 - Train Accuracy:  0.438, Validation Accuracy:  0.496, Loss:  3.067\n",
      "Epoch   0 Batch   77/538 - Train Accuracy:  0.440, Validation Accuracy:  0.504, Loss:  3.022\n",
      "Epoch   0 Batch   78/538 - Train Accuracy:  0.437, Validation Accuracy:  0.481, Loss:  2.935\n",
      "Epoch   0 Batch   79/538 - Train Accuracy:  0.440, Validation Accuracy:  0.478, Loss:  2.980\n",
      "Epoch   0 Batch   80/538 - Train Accuracy:  0.370, Validation Accuracy:  0.444, Loss:  3.118\n",
      "Epoch   0 Batch   81/538 - Train Accuracy:  0.425, Validation Accuracy:  0.482, Loss:  3.114\n",
      "Epoch   0 Batch   82/538 - Train Accuracy:  0.436, Validation Accuracy:  0.482, Loss:  2.898\n",
      "Epoch   0 Batch   83/538 - Train Accuracy:  0.390, Validation Accuracy:  0.458, Loss:  2.986\n",
      "Epoch   0 Batch   84/538 - Train Accuracy:  0.442, Validation Accuracy:  0.488, Loss:  2.962\n",
      "Epoch   0 Batch   85/538 - Train Accuracy:  0.470, Validation Accuracy:  0.488, Loss:  2.833\n",
      "Epoch   0 Batch   86/538 - Train Accuracy:  0.420, Validation Accuracy:  0.479, Loss:  3.023\n",
      "Epoch   0 Batch   87/538 - Train Accuracy:  0.406, Validation Accuracy:  0.465, Loss:  2.915\n",
      "Epoch   0 Batch   88/538 - Train Accuracy:  0.450, Validation Accuracy:  0.494, Loss:  2.948\n"
     ]
    },
    {
     "name": "stdout",
     "output_type": "stream",
     "text": [
      "Epoch   0 Batch   89/538 - Train Accuracy:  0.451, Validation Accuracy:  0.488, Loss:  2.899\n",
      "Epoch   0 Batch   90/538 - Train Accuracy:  0.455, Validation Accuracy:  0.489, Loss:  2.854\n",
      "Epoch   0 Batch   91/538 - Train Accuracy:  0.396, Validation Accuracy:  0.471, Loss:  2.954\n",
      "Epoch   0 Batch   92/538 - Train Accuracy:  0.442, Validation Accuracy:  0.493, Loss:  2.841\n",
      "Epoch   0 Batch   93/538 - Train Accuracy:  0.439, Validation Accuracy:  0.497, Loss:  2.892\n",
      "Epoch   0 Batch   94/538 - Train Accuracy:  0.418, Validation Accuracy:  0.486, Loss:  2.970\n",
      "Epoch   0 Batch   95/538 - Train Accuracy:  0.489, Validation Accuracy:  0.495, Loss:  2.741\n",
      "Epoch   0 Batch   96/538 - Train Accuracy:  0.479, Validation Accuracy:  0.493, Loss:  2.771\n",
      "Epoch   0 Batch   97/538 - Train Accuracy:  0.437, Validation Accuracy:  0.498, Loss:  2.855\n",
      "Epoch   0 Batch   98/538 - Train Accuracy:  0.466, Validation Accuracy:  0.500, Loss:  2.721\n",
      "Epoch   0 Batch   99/538 - Train Accuracy:  0.448, Validation Accuracy:  0.503, Loss:  2.907\n",
      "Epoch   0 Batch  100/538 - Train Accuracy:  0.455, Validation Accuracy:  0.496, Loss:  2.822\n",
      "Epoch   0 Batch  101/538 - Train Accuracy:  0.442, Validation Accuracy:  0.497, Loss:  2.798\n",
      "Epoch   0 Batch  102/538 - Train Accuracy:  0.452, Validation Accuracy:  0.508, Loss:  2.879\n",
      "Epoch   0 Batch  103/538 - Train Accuracy:  0.465, Validation Accuracy:  0.506, Loss:  2.816\n",
      "Epoch   0 Batch  104/538 - Train Accuracy:  0.455, Validation Accuracy:  0.496, Loss:  2.782\n",
      "Epoch   0 Batch  105/538 - Train Accuracy:  0.453, Validation Accuracy:  0.487, Loss:  2.716\n",
      "Epoch   0 Batch  106/538 - Train Accuracy:  0.445, Validation Accuracy:  0.495, Loss:  2.765\n",
      "Epoch   0 Batch  107/538 - Train Accuracy:  0.434, Validation Accuracy:  0.495, Loss:  2.849\n",
      "Epoch   0 Batch  108/538 - Train Accuracy:  0.445, Validation Accuracy:  0.493, Loss:  2.796\n",
      "Epoch   0 Batch  109/538 - Train Accuracy:  0.469, Validation Accuracy:  0.509, Loss:  2.781\n",
      "Epoch   0 Batch  110/538 - Train Accuracy:  0.456, Validation Accuracy:  0.510, Loss:  2.799\n",
      "Epoch   0 Batch  111/538 - Train Accuracy:  0.480, Validation Accuracy:  0.503, Loss:  2.701\n",
      "Epoch   0 Batch  112/538 - Train Accuracy:  0.451, Validation Accuracy:  0.504, Loss:  2.772\n",
      "Epoch   0 Batch  113/538 - Train Accuracy:  0.456, Validation Accuracy:  0.504, Loss:  2.794\n",
      "Epoch   0 Batch  114/538 - Train Accuracy:  0.497, Validation Accuracy:  0.509, Loss:  2.644\n",
      "Epoch   0 Batch  115/538 - Train Accuracy:  0.462, Validation Accuracy:  0.513, Loss:  2.702\n",
      "Epoch   0 Batch  116/538 - Train Accuracy:  0.475, Validation Accuracy:  0.505, Loss:  2.682\n",
      "Epoch   0 Batch  117/538 - Train Accuracy:  0.483, Validation Accuracy:  0.507, Loss:  2.620\n",
      "Epoch   0 Batch  118/538 - Train Accuracy:  0.482, Validation Accuracy:  0.503, Loss:  2.650\n",
      "Epoch   0 Batch  119/538 - Train Accuracy:  0.488, Validation Accuracy:  0.509, Loss:  2.632\n",
      "Epoch   0 Batch  120/538 - Train Accuracy:  0.475, Validation Accuracy:  0.507, Loss:  2.674\n"
     ]
    }
   ],
   "source": [
    "\"\"\"\n",
    "DON'T MODIFY ANYTHING IN THIS CELL\n",
    "\"\"\"\n",
    "import time\n",
    "\n",
    "def get_accuracy(target, logits):\n",
    "    \"\"\"\n",
    "    Calculate accuracy\n",
    "    \"\"\"\n",
    "    max_seq = max(target.shape[1], logits.shape[1])\n",
    "    if max_seq - target.shape[1]:\n",
    "        target = np.pad(\n",
    "            target_batch,\n",
    "            [(0,0),(0,max_seq - target_batch.shape[1]), (0,0)],\n",
    "            'constant')\n",
    "    if max_seq - batch_train_logits.shape[1]:\n",
    "        logits = np.pad(\n",
    "            logits,\n",
    "            [(0,0),(0,max_seq - logits.shape[1]), (0,0)],\n",
    "            'constant')\n",
    "\n",
    "    return np.mean(np.equal(target, np.argmax(logits, 2)))\n",
    "\n",
    "train_source = source_int_text[batch_size:]\n",
    "train_target = target_int_text[batch_size:]\n",
    "\n",
    "valid_source = helper.pad_sentence_batch(source_int_text[:batch_size])\n",
    "valid_target = helper.pad_sentence_batch(target_int_text[:batch_size])\n",
    "\n",
    "with tf.Session(graph=train_graph) as sess:\n",
    "    sess.run(tf.global_variables_initializer())\n",
    "\n",
    "    for epoch_i in range(epochs):\n",
    "        for batch_i, (source_batch, target_batch) in enumerate(\n",
    "                helper.batch_data(train_source, train_target, batch_size)):\n",
    "            start_time = time.time()\n",
    "            \n",
    "            _, loss = sess.run(\n",
    "                [train_op, cost],\n",
    "                {input_data: source_batch,\n",
    "                 targets: target_batch,\n",
    "                 lr: learning_rate,\n",
    "                 sequence_length: target_batch.shape[1],\n",
    "                 keep_prob: keep_probability})\n",
    "            \n",
    "            batch_train_logits = sess.run(\n",
    "                inference_logits,\n",
    "                {input_data: source_batch, keep_prob: 1.0})\n",
    "            batch_valid_logits = sess.run(\n",
    "                inference_logits,\n",
    "                {input_data: valid_source, keep_prob: 1.0})\n",
    "                \n",
    "            train_acc = get_accuracy(target_batch, batch_train_logits)\n",
    "            valid_acc = get_accuracy(np.array(valid_target), batch_valid_logits)\n",
    "            end_time = time.time()\n",
    "            print('Epoch {:>3} Batch {:>4}/{} - Train Accuracy: {:>6.3f}, Validation Accuracy: {:>6.3f}, Loss: {:>6.3f}'\n",
    "                  .format(epoch_i, batch_i, len(source_int_text) // batch_size, train_acc, valid_acc, loss))\n",
    "\n",
    "    # Save Model\n",
    "    saver = tf.train.Saver()\n",
    "    saver.save(sess, save_path)\n",
    "    print('Model Trained and Saved')"
   ]
  },
  {
   "cell_type": "markdown",
   "metadata": {},
   "source": [
    "### Save Parameters\n",
    "Save the `batch_size` and `save_path` parameters for inference."
   ]
  },
  {
   "cell_type": "code",
   "execution_count": null,
   "metadata": {},
   "outputs": [],
   "source": [
    "\"\"\"\n",
    "DON'T MODIFY ANYTHING IN THIS CELL\n",
    "\"\"\"\n",
    "# Save parameters for checkpoint\n",
    "helper.save_params(save_path)"
   ]
  },
  {
   "cell_type": "markdown",
   "metadata": {},
   "source": [
    "# Checkpoint"
   ]
  },
  {
   "cell_type": "code",
   "execution_count": null,
   "metadata": {},
   "outputs": [],
   "source": [
    "\"\"\"\n",
    "DON'T MODIFY ANYTHING IN THIS CELL\n",
    "\"\"\"\n",
    "import tensorflow as tf\n",
    "import numpy as np\n",
    "import helper\n",
    "import problem_unittests as tests\n",
    "\n",
    "_, (source_vocab_to_int, target_vocab_to_int), (source_int_to_vocab, target_int_to_vocab) = helper.load_preprocess()\n",
    "load_path = helper.load_params()"
   ]
  },
  {
   "cell_type": "markdown",
   "metadata": {},
   "source": [
    "## Sentence to Sequence\n",
    "To feed a sentence into the model for translation, you first need to preprocess it.  Implement the function `sentence_to_seq()` to preprocess new sentences.\n",
    "\n",
    "- Convert the sentence to lowercase\n",
    "- Convert words into ids using `vocab_to_int`\n",
    " - Convert words not in the vocabulary, to the `<UNK>` word id."
   ]
  },
  {
   "cell_type": "code",
   "execution_count": null,
   "metadata": {},
   "outputs": [],
   "source": [
    "def sentence_to_seq(sentence, vocab_to_int):\n",
    "    \"\"\"\n",
    "    Convert a sentence to a sequence of ids\n",
    "    :param sentence: String\n",
    "    :param vocab_to_int: Dictionary to go from the words to an id\n",
    "    :return: List of word ids\n",
    "    \"\"\"\n",
    "    seq = [vocab_to_int.get(word, vocab_to_int['<UNK>']) for word in sentence.lower().split()]\n",
    "    return seq\n",
    "\n",
    "\n",
    "\"\"\"\n",
    "DON'T MODIFY ANYTHING IN THIS CELL THAT IS BELOW THIS LINE\n",
    "\"\"\"\n",
    "tests.test_sentence_to_seq(sentence_to_seq)"
   ]
  },
  {
   "cell_type": "markdown",
   "metadata": {},
   "source": [
    "## Translate\n",
    "This will translate `translate_sentence` from English to French."
   ]
  },
  {
   "cell_type": "code",
   "execution_count": null,
   "metadata": {},
   "outputs": [],
   "source": [
    "translate_sentence = 'he saw a old yellow truck .'\n",
    "\n",
    "\n",
    "\"\"\"\n",
    "DON'T MODIFY ANYTHING IN THIS CELL\n",
    "\"\"\"\n",
    "translate_sentence = sentence_to_seq(translate_sentence, source_vocab_to_int)\n",
    "\n",
    "loaded_graph = tf.Graph()\n",
    "with tf.Session(graph=loaded_graph) as sess:\n",
    "    # Load saved model\n",
    "    loader = tf.train.import_meta_graph(load_path + '.meta')\n",
    "    loader.restore(sess, load_path)\n",
    "\n",
    "    input_data = loaded_graph.get_tensor_by_name('input:0')\n",
    "    logits = loaded_graph.get_tensor_by_name('logits:0')\n",
    "    keep_prob = loaded_graph.get_tensor_by_name('keep_prob:0')\n",
    "\n",
    "    translate_logits = sess.run(logits, {input_data: [translate_sentence], keep_prob: 1.0})[0]\n",
    "\n",
    "print('Input')\n",
    "print('  Word Ids:      {}'.format([i for i in translate_sentence]))\n",
    "print('  English Words: {}'.format([source_int_to_vocab[i] for i in translate_sentence]))\n",
    "\n",
    "print('\\nPrediction')\n",
    "print('  Word Ids:      {}'.format([i for i in np.argmax(translate_logits, 1)]))\n",
    "print('  French Words: {}'.format([target_int_to_vocab[i] for i in np.argmax(translate_logits, 1)]))"
   ]
  },
  {
   "cell_type": "markdown",
   "metadata": {},
   "source": [
    "## Imperfect Translation\n",
    "You might notice that some sentences translate better than others.  Since the dataset you're using only has a vocabulary of 227 English words of the thousands that you use, you're only going to see good results using these words.  For this project, you don't need a perfect translation. However, if you want to create a better translation model, you'll need better data.\n",
    "\n",
    "You can train on the [WMT10 French-English corpus](http://www.statmt.org/wmt10/training-giga-fren.tar).  This dataset has more vocabulary and richer in topics discussed.  However, this will take you days to train, so make sure you've a GPU and the neural network is performing well on dataset we provided.  Just make sure you play with the WMT10 corpus after you've submitted this project.\n",
    "## Submitting This Project\n",
    "When submitting this project, make sure to run all the cells before saving the notebook. Save the notebook file as \"dlnd_language_translation.ipynb\" and save it as a HTML file under \"File\" -> \"Download as\". Include the \"helper.py\" and \"problem_unittests.py\" files in your submission."
   ]
  }
 ],
 "metadata": {
  "kernelspec": {
   "display_name": "Python 3",
   "language": "python",
   "name": "python3"
  },
  "language_info": {
   "codemirror_mode": {
    "name": "ipython",
    "version": 3
   },
   "file_extension": ".py",
   "mimetype": "text/x-python",
   "name": "python",
   "nbconvert_exporter": "python",
   "pygments_lexer": "ipython3",
   "version": "3.5.4"
  }
 },
 "nbformat": 4,
 "nbformat_minor": 1
}
